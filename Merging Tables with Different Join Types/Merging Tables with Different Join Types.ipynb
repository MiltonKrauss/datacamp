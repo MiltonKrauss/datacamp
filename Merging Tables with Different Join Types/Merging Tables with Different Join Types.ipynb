{
 "cells": [
  {
   "cell_type": "code",
   "execution_count": 4,
   "id": "8fa2f169",
   "metadata": {
    "scrolled": true
   },
   "outputs": [
    {
     "name": "stdout",
     "output_type": "stream",
     "text": [
      "      id                 title  popularity release_date\n",
      "0    257          Oliver Twist   20.415572   2005-09-23\n",
      "1  14290  Better Luck Tomorrow    3.877036   2002-01-12\n",
      "2  38365             Grown Ups   38.864027   2010-06-24\n",
      "3   9672              Infamous    3.680896   2006-11-16\n",
      "4  12819       Alpha and Omega   12.300789   2010-09-17\n",
      "(4803, 4)\n"
     ]
    }
   ],
   "source": [
    "import pandas as pd\n",
    "movies = pd.read_pickle('movies.p')\n",
    "print(movies.head())\n",
    "print(movies.shape)"
   ]
  },
  {
   "cell_type": "code",
   "execution_count": 6,
   "id": "fbaf076e",
   "metadata": {},
   "outputs": [
    {
     "name": "stdout",
     "output_type": "stream",
     "text": [
      "       id                                         tagline\n",
      "0   19995                     Enter the World of Pandora.\n",
      "1     285  At the end of the world, the adventure begins.\n",
      "2  206647                           A Plan No One Escapes\n",
      "3   49026                                 The Legend Ends\n",
      "4   49529            Lost in our world, found in another.\n",
      "(3955, 2)\n"
     ]
    }
   ],
   "source": [
    "taglines = pd.read_pickle('taglines.p')\n",
    "print(taglines.head())\n",
    "print(taglines.shape)"
   ]
  },
  {
   "cell_type": "code",
   "execution_count": 8,
   "id": "5d5e2e20",
   "metadata": {},
   "outputs": [
    {
     "name": "stdout",
     "output_type": "stream",
     "text": [
      "      id                 title  popularity release_date  \\\n",
      "0    257          Oliver Twist   20.415572   2005-09-23   \n",
      "1  14290  Better Luck Tomorrow    3.877036   2002-01-12   \n",
      "2  38365             Grown Ups   38.864027   2010-06-24   \n",
      "3   9672              Infamous    3.680896   2006-11-16   \n",
      "4  12819       Alpha and Omega   12.300789   2010-09-17   \n",
      "\n",
      "                                           tagline  \n",
      "0                                              NaN  \n",
      "1             Never underestimate an overachiever.  \n",
      "2  Boys will be boys. . . some longer than others.  \n",
      "3          There's more to the story than you know  \n",
      "4                           A Pawsome 3D Adventure  \n",
      "(4803, 5)\n"
     ]
    }
   ],
   "source": [
    "movies_taglines = movies.merge(taglines, on='id', how='left')\n",
    "print(movies_taglines.head())\n",
    "print(movies_taglines.shape)"
   ]
  },
  {
   "cell_type": "code",
   "execution_count": 12,
   "id": "5ab488c6",
   "metadata": {},
   "outputs": [
    {
     "name": "stdout",
     "output_type": "stream",
     "text": [
      "       movie_id     genre\n",
      "4998      10947  TV Movie\n",
      "5994      13187  TV Movie\n",
      "7443      22488  TV Movie\n",
      "10061     78814  TV Movie\n",
      "10790    153397  TV Movie\n",
      "10835    158150  TV Movie\n",
      "11096    205321  TV Movie\n",
      "11282    231617  TV Movie\n"
     ]
    }
   ],
   "source": [
    "genres = pd.read_pickle('genres.p')\n",
    "m = genres['genre'] == 'TV Movie'\n",
    "tv_genre = genres[m]\n",
    "print(tv_genre)"
   ]
  },
  {
   "cell_type": "code",
   "execution_count": 13,
   "id": "d91231b7",
   "metadata": {},
   "outputs": [
    {
     "name": "stdout",
     "output_type": "stream",
     "text": [
      "       id                      title  popularity release_date  movie_id  \\\n",
      "0   10947        High School Musical   16.536374   2006-01-20     10947   \n",
      "1   13187  A Charlie Brown Christmas    8.701183   1965-12-09     13187   \n",
      "2   22488         Love's Abiding Joy    1.128559   2006-10-06     22488   \n",
      "3   78814       We Have Your Husband    0.102003   2011-11-12     78814   \n",
      "4  153397                   Restless    0.812776   2012-12-07    153397   \n",
      "\n",
      "      genre  \n",
      "0  TV Movie  \n",
      "1  TV Movie  \n",
      "2  TV Movie  \n",
      "3  TV Movie  \n",
      "4  TV Movie  \n"
     ]
    }
   ],
   "source": [
    "tv_movies = movies.merge(tv_genre, how='right', left_on='id', right_on='movie_id')\n",
    "print(tv_movies.head())"
   ]
  },
  {
   "cell_type": "markdown",
   "id": "ca7a856a",
   "metadata": {},
   "source": [
    "Outer Join"
   ]
  },
  {
   "cell_type": "code",
   "execution_count": 17,
   "id": "dc5a9514",
   "metadata": {},
   "outputs": [
    {
     "name": "stdout",
     "output_type": "stream",
     "text": [
      "     movie_id   genre\n",
      "5          12  Family\n",
      "33         35  Family\n",
      "111       105  Family\n",
      "    movie_id   genre\n",
      "1          5  Comedy\n",
      "7         13  Comedy\n",
      "35        35  Comedy\n",
      "   movie_id genre_fam genre_com\n",
      "0        12    Family       NaN\n",
      "1        35    Family    Comedy\n",
      "2       105    Family       NaN\n",
      "3         5       NaN    Comedy\n",
      "4        13       NaN    Comedy\n"
     ]
    }
   ],
   "source": [
    "m = genres['genre'] == 'Family'\n",
    "family = genres[m].head(3)\n",
    "m = genres['genre'] == 'Comedy'\n",
    "comedy = genres[m].head(3)\n",
    "print(family)\n",
    "print(comedy)\n",
    "\n",
    "family_comedy = family.merge(comedy, on='movie_id', how='outer', suffixes=('_fam', '_com'))\n",
    "print(family_comedy)"
   ]
  },
  {
   "cell_type": "markdown",
   "id": "0bba244b",
   "metadata": {},
   "source": [
    "Merging a table to itself (self join)"
   ]
  },
  {
   "cell_type": "code",
   "execution_count": 20,
   "id": "11988860",
   "metadata": {},
   "outputs": [
    {
     "name": "stdout",
     "output_type": "stream",
     "text": [
      "      id         title  sequel\n",
      "0  19995        Avatar    <NA>\n",
      "1    862     Toy Story     863\n",
      "2    863   Toy Story 2   10193\n",
      "3    597       Titanic    <NA>\n",
      "4  24428  The Avengers    <NA>\n"
     ]
    }
   ],
   "source": [
    "sequels = pd.read_pickle('sequels.p')\n",
    "print(sequels.head())"
   ]
  },
  {
   "cell_type": "code",
   "execution_count": 21,
   "id": "ded7ca5c",
   "metadata": {},
   "outputs": [
    {
     "name": "stdout",
     "output_type": "stream",
     "text": [
      "   id_org                                          title_org  sequel_org  \\\n",
      "0     862                                          Toy Story         863   \n",
      "1     863                                        Toy Story 2       10193   \n",
      "2     675          Harry Potter and the Order of the Phoenix         767   \n",
      "3     121              The Lord of the Rings: The Two Towers         122   \n",
      "4     120  The Lord of the Rings: The Fellowship of the Ring         121   \n",
      "\n",
      "   id_seq                                      title_seq  sequel_seq  \n",
      "0     863                                    Toy Story 2       10193  \n",
      "1   10193                                    Toy Story 3        <NA>  \n",
      "2     767         Harry Potter and the Half-Blood Prince        <NA>  \n",
      "3     122  The Lord of the Rings: The Return of the King        <NA>  \n",
      "4     121          The Lord of the Rings: The Two Towers         122  \n"
     ]
    }
   ],
   "source": [
    "original_sequels = sequels.merge(sequels, left_on='sequel', right_on='id', suffixes=('_org', '_seq'))\n",
    "print(original_sequels.head())"
   ]
  },
  {
   "cell_type": "markdown",
   "id": "5dd05e79",
   "metadata": {},
   "source": [
    "Merging a table to itself with left join"
   ]
  },
  {
   "cell_type": "code",
   "execution_count": 22,
   "id": "3b79700a",
   "metadata": {},
   "outputs": [
    {
     "name": "stdout",
     "output_type": "stream",
     "text": [
      "   id_org     title_org  sequel_org  id_seq    title_seq  sequel_seq\n",
      "0   19995        Avatar        <NA>    <NA>          NaN        <NA>\n",
      "1     862     Toy Story         863     863  Toy Story 2       10193\n",
      "2     863   Toy Story 2       10193   10193  Toy Story 3        <NA>\n",
      "3     597       Titanic        <NA>    <NA>          NaN        <NA>\n",
      "4   24428  The Avengers        <NA>    <NA>          NaN        <NA>\n"
     ]
    }
   ],
   "source": [
    "original_sequels = sequels.merge(sequels, left_on='sequel', right_on='id', how='left', suffixes=('_org', '_seq'))\n",
    "print(original_sequels.head())"
   ]
  },
  {
   "cell_type": "markdown",
   "id": "e3534c57",
   "metadata": {},
   "source": [
    "You might need to merge a table to itself when working with tables that have a hierarchical relationship, like employee and manager. You might use this on sequential relationships such as logistic movements. Graph data, such as networks of friends, might also require this technique."
   ]
  },
  {
   "cell_type": "markdown",
   "id": "f93ad05c",
   "metadata": {},
   "source": [
    "Merging on indexes\n",
    "\n",
    "There are different methods to set the index of a table, but if our data starts off in a CSV file, we can use the index_col argument of the read_csv method. This will not focus on how to set a table index, but how to use that index to merge two tables together.\n",
    "\n",
    "Setting an index"
   ]
  },
  {
   "cell_type": "code",
   "execution_count": 25,
   "id": "f2b24a05",
   "metadata": {},
   "outputs": [
    {
     "name": "stdout",
     "output_type": "stream",
     "text": [
      "      id                 title  popularity release_date\n",
      "0    257          Oliver Twist   20.415572   2005-09-23\n",
      "1  14290  Better Luck Tomorrow    3.877036   2002-01-12\n",
      "2  38365             Grown Ups   38.864027   2010-06-24\n",
      "3   9672              Infamous    3.680896   2006-11-16\n",
      "4  12819       Alpha and Omega   12.300789   2010-09-17\n"
     ]
    }
   ],
   "source": [
    "print(movies.head())\n",
    "# movies = pd.read_csv('movies.p', index_col=['id'])\n",
    "# The above code won't work here because it is NOT a CSV file. It is a Pascal Source Code file."
   ]
  },
  {
   "cell_type": "code",
   "execution_count": null,
   "id": "301166ec",
   "metadata": {},
   "outputs": [],
   "source": [
    "# movies_taglines = movies.merge(taglines, on='id', how='left')\n",
    "# print(movies_taglines.head())"
   ]
  },
  {
   "cell_type": "markdown",
   "id": "a99f8d0d",
   "metadata": {},
   "source": [
    "Our merge statement looks identical to before. However, in this case we are inputting to the 'on' argument the index level name which is called 'id'. The merge method automatically adjusts to accept index names or column names. The returned table looks as before, except the 'id' is the index."
   ]
  },
  {
   "cell_type": "code",
   "execution_count": null,
   "id": "1c463cef",
   "metadata": {},
   "outputs": [],
   "source": [
    "# samuel = pd.read_csv('samuel.csv', index_col=['movie_id', 'cast_id'])\n",
    "# casts = pd.read_csv('casts.csv', index_col=['movie_id', 'cast_id'])"
   ]
  },
  {
   "cell_type": "markdown",
   "id": "ca97050b",
   "metadata": {},
   "source": [
    "In this merge, we pass in a list of index level names to the 'on' argument, just like we did when merging on multiple columns. Since this is an inner join, both the movie_id and cast_id must match in each table to be returned in the result. You would see that Samuel L. Jackson has acted in more than 65 movies."
   ]
  },
  {
   "cell_type": "markdown",
   "id": "4b927b0c",
   "metadata": {},
   "source": [
    "There is one more thing regarding merging on indexes. If the index level names are different between the two tables that we want to merge, then we can use the left_on and right_on arguments of the merge method. Let's go back to our movies table, shown in the top panel, and merge it with our movies_to_genres table, shown in the lower panel."
   ]
  },
  {
   "cell_type": "code",
   "execution_count": null,
   "id": "f438816a",
   "metadata": {},
   "outputs": [],
   "source": [
    "movies_genres = movies.merge(genres, left_on='id', left_index=True, right_on='movie_id', right_index=True)\n",
    "print(movies_genres.head())"
   ]
  },
  {
   "cell_type": "markdown",
   "id": "6b63f562",
   "metadata": {},
   "source": [
    "In this merge, since we list the movies table as the left table, we set left_on equal to id and right_on equal to movie_id. Additionally, since we are merging on indexes, we need to set left_index and right_index to True. These arguments take only True or False. Whenever we are using the left_on or right_on arguments with an index, we need to set the respective left_index and right_index arguments to True. The left_index and right_index tell the merge method to use the separate indexes."
   ]
  }
 ],
 "metadata": {
  "kernelspec": {
   "display_name": "Python 3 (ipykernel)",
   "language": "python",
   "name": "python3"
  },
  "language_info": {
   "codemirror_mode": {
    "name": "ipython",
    "version": 3
   },
   "file_extension": ".py",
   "mimetype": "text/x-python",
   "name": "python",
   "nbconvert_exporter": "python",
   "pygments_lexer": "ipython3",
   "version": "3.10.9"
  }
 },
 "nbformat": 4,
 "nbformat_minor": 5
}
