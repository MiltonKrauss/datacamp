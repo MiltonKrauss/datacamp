{
 "cells": [
  {
   "cell_type": "markdown",
   "id": "dfdeac9d",
   "metadata": {},
   "source": [
    "A semi join filters the left table down to those observations that have a match in the right table. It is similar to an inner join where only the intersection is returned, but, unlike inner joins, only the columns from the left table are shown. Also, no duplicate rows are returned, even in a one-to-many relationship."
   ]
  },
  {
   "cell_type": "code",
   "execution_count": 3,
   "id": "e1e3df6e",
   "metadata": {},
   "outputs": [
    {
     "data": {
      "text/html": [
       "<div>\n",
       "<style scoped>\n",
       "    .dataframe tbody tr th:only-of-type {\n",
       "        vertical-align: middle;\n",
       "    }\n",
       "\n",
       "    .dataframe tbody tr th {\n",
       "        vertical-align: top;\n",
       "    }\n",
       "\n",
       "    .dataframe thead th {\n",
       "        text-align: right;\n",
       "    }\n",
       "</style>\n",
       "<table border=\"1\" class=\"dataframe\">\n",
       "  <thead>\n",
       "    <tr style=\"text-align: right;\">\n",
       "      <th></th>\n",
       "      <th>movie_id</th>\n",
       "      <th>genre</th>\n",
       "    </tr>\n",
       "  </thead>\n",
       "  <tbody>\n",
       "    <tr>\n",
       "      <th>0</th>\n",
       "      <td>5</td>\n",
       "      <td>Crime</td>\n",
       "    </tr>\n",
       "    <tr>\n",
       "      <th>1</th>\n",
       "      <td>5</td>\n",
       "      <td>Comedy</td>\n",
       "    </tr>\n",
       "    <tr>\n",
       "      <th>2</th>\n",
       "      <td>11</td>\n",
       "      <td>Science Fiction</td>\n",
       "    </tr>\n",
       "    <tr>\n",
       "      <th>3</th>\n",
       "      <td>11</td>\n",
       "      <td>Action</td>\n",
       "    </tr>\n",
       "    <tr>\n",
       "      <th>4</th>\n",
       "      <td>11</td>\n",
       "      <td>Adventure</td>\n",
       "    </tr>\n",
       "  </tbody>\n",
       "</table>\n",
       "</div>"
      ],
      "text/plain": [
       "   movie_id            genre\n",
       "0         5            Crime\n",
       "1         5           Comedy\n",
       "2        11  Science Fiction\n",
       "3        11           Action\n",
       "4        11        Adventure"
      ]
     },
     "execution_count": 3,
     "metadata": {},
     "output_type": "execute_result"
    }
   ],
   "source": [
    "import pandas as pd\n",
    "genres = pd.read_pickle('genres.p')\n",
    "genres.head()"
   ]
  },
  {
   "cell_type": "markdown",
   "id": "645e1ab8",
   "metadata": {},
   "source": [
    "There doesn't appear to be a \"top_tracks\" table, so the example code will be in this Markdown rather than a code block.\n",
    "\n",
    "**genres_tracks = genres.merge(top_tracks, on='gid')<br>\n",
    "print(genres_tracks.head())**\n",
    "\n",
    "Since this is an inner join, only values where both tables matched is returned.\n",
    "\n",
    "**genres['gid'].isin(genres_tracks['gid'])**\n",
    "\n",
    "The method isin() compares every 'gid' in the genres table to the 'gid' in the genres_tracks table. This will tell us if our genre appears in our merged genres_tracks table. This line of code returns a Boolean Series of values.\n",
    "\n",
    "To combine everything, we use that line of code to subset the genres table. The results are saved to top_genres and we print a few rows. We've completed a semi join. These are rows in the genre table that are also found in the top_tracks table. This is called a filtering join because we've filtered the genres table by what's in the top_tracks table.\n",
    "\n",
    "**genres_tracks = genres.merge(top_tracks, on='gid')<br>\n",
    "top_genres = genres[genres['gid'].isin(genres_tracks['gid'])]<br>\n",
    "print(top_genres.head())**\n",
    "\n",
    "An anti join returns the observations in the left table that do not have a matching observation in the right table. It also only returns the columns from the left table. Now, let's go back to our example. Instead of finding which genres are in the table of top tracks, let's now find which genres are not with an anti join.\n",
    "\n",
    "The first step is to use a left join returning all of the rows from the left table. Here we'll use the indicator argument and set it to True. With indicator set to True, the merge method adds a column called \"\\_merge\" to the output. This column tells the source of each row. For example, the first four rows found a match in both tables, whereas the last can only be found in the left table.\n",
    "\n",
    "**genres_tracks = genres.merge(top_tracks, on='gid', how='left', indicator=True)<br>\n",
    "print(genres_tracks.head())**\n",
    "\n",
    "Next, we use the \"loc\" accessor and \"\\_merge\" column to select the rows that only appeared in the left table and return only the \"gid\" column from the genres_tracks table. We now have a list of gids not in the tracks table.\n",
    "\n",
    "**gid_list = genres_tracks.loc[genres_track['_merge'] == 'left_only', 'gid']<br>\n",
    "print(gid_list.head())**\n",
    "\n",
    "In our final step we use the isin() method to filter for the rows with gids in our gid_list. Our output shows those genres not in the tracks table.\n",
    "\n",
    "**genres_tracks = genres.merge(top_tracks, on='gid', how='left', indicator=True)<br>\n",
    "gid_list = genres_tracks.loc[genres_track['_merge'] == 'left_only', 'gid']<br>\n",
    "non_top_genres = genres[genres['gid'].isin(gid_list)]<br>\n",
    "print(non_top_genres.head())**"
   ]
  },
  {
   "cell_type": "code",
   "execution_count": null,
   "id": "bb42aa99",
   "metadata": {},
   "outputs": [],
   "source": []
  },
  {
   "cell_type": "code",
   "execution_count": null,
   "id": "d20d8937",
   "metadata": {},
   "outputs": [],
   "source": []
  },
  {
   "cell_type": "code",
   "execution_count": null,
   "id": "9d7f7abf",
   "metadata": {},
   "outputs": [],
   "source": []
  },
  {
   "cell_type": "code",
   "execution_count": null,
   "id": "321398f0",
   "metadata": {},
   "outputs": [],
   "source": []
  },
  {
   "cell_type": "code",
   "execution_count": null,
   "id": "0c2953f6",
   "metadata": {},
   "outputs": [],
   "source": []
  }
 ],
 "metadata": {
  "kernelspec": {
   "display_name": "Python 3 (ipykernel)",
   "language": "python",
   "name": "python3"
  },
  "language_info": {
   "codemirror_mode": {
    "name": "ipython",
    "version": 3
   },
   "file_extension": ".py",
   "mimetype": "text/x-python",
   "name": "python",
   "nbconvert_exporter": "python",
   "pygments_lexer": "ipython3",
   "version": "3.10.9"
  }
 },
 "nbformat": 4,
 "nbformat_minor": 5
}
